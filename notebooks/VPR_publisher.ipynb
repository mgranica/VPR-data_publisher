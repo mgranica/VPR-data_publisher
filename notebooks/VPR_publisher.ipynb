{
 "cells": [
  {
   "cell_type": "code",
   "execution_count": 1,
   "id": "245a4dbd-bf86-44dc-a234-6f80dc048508",
   "metadata": {
    "vscode": {
     "languageId": "python_glue_session"
    }
   },
   "outputs": [],
   "source": [
    "import sys\n",
    "import os\n",
    "import yaml\n",
    "import configparser\n",
    "\n",
    "# Add the src directory to the sys.path\n",
    "sys.path.append(os.path.abspath(os.path.join('..', 'src')))"
   ]
  },
  {
   "cell_type": "markdown",
   "id": "52290272-2444-4fd2-82aa-664465e34a2d",
   "metadata": {},
   "source": [
    "Consideraciones:\n",
    "* generar schema de validacion de streams\n",
    "* introducir crdenciales a traves del entorno de docker - ENV variables en .ipynb no funcionan\n",
    "* optimizar filtrado de id incluir particion?\n",
    "* structura de micro servicios: inventory consumer - producer\n",
    "* diseño de sistemas: filtrar ordenes efectuadas para los siguientes envios\n",
    "* confirmar Best pracitces para el manejo de streams: memorytable vs readStream\n",
    "* confirmar best practice para pertion key del stream\n",
    "* Arquitectura Lambda\n",
    "* builling de S3 por fichero registrado: definir criterios de particion\n",
    "* emplear memory format para lectura de streams\n",
    "* best practices para gestionar checkpoints\n",
    "* firehose implementarlo"
   ]
  },
  {
   "cell_type": "markdown",
   "id": "a35e50b2-b78f-4c50-8d48-631fd084fca2",
   "metadata": {},
   "source": [
    "# 1. Environment Configuration"
   ]
  },
  {
   "cell_type": "markdown",
   "id": "5734e828",
   "metadata": {},
   "source": [
    "## 1.1 Import dependencies"
   ]
  },
  {
   "cell_type": "code",
   "execution_count": 2,
   "id": "292bab02-b9a6-4721-91dc-ac185d736140",
   "metadata": {
    "vscode": {
     "languageId": "python_glue_session"
    }
   },
   "outputs": [],
   "source": [
    "import boto3\n",
    "import json\n",
    "import os\n",
    "from uuid import uuid4\n",
    "from datetime import datetime\n",
    "from datetime import timedelta\n",
    "import time\n",
    "import random\n",
    "import uuid\n",
    "import logging\n",
    "import numpy as np\n",
    "\n",
    "import pyspark.sql.types as t\n",
    "import pyspark.sql.functions as f"
   ]
  },
  {
   "cell_type": "code",
   "execution_count": 3,
   "id": "b5780f5e-73f6-4f24-98cd-baea049c7af6",
   "metadata": {},
   "outputs": [],
   "source": [
    "from spark_session import create_spark_session\n",
    "from schemas import *\n",
    "from functions import *"
   ]
  },
  {
   "cell_type": "markdown",
   "id": "f62f1c07",
   "metadata": {},
   "source": [
    "## 1.2 Extract AWS credentials"
   ]
  },
  {
   "cell_type": "code",
   "execution_count": 4,
   "id": "2bb79a62-d553-40a4-9d0d-4a42c9512ee2",
   "metadata": {
    "vscode": {
     "languageId": "python_glue_session"
    }
   },
   "outputs": [],
   "source": [
    "def load_aws_credentials(profile_name=\"default\"):\n",
    "\n",
    "    # Load credentials from the .aws/credentials file (local development)\n",
    "    try:\n",
    "        credentials = configparser.ConfigParser()\n",
    "        credentials.read(os.path.join('..', '.aws', 'credentials'))\n",
    "        \n",
    "        logging.info(\"Successfully loaded credentials variables from .aws file.\")\n",
    "    except Exception as e:\n",
    "        logging.error(f\"Error loading .aws file: {e}\")\n",
    "        sys.exit(1)\n",
    "\n",
    "    aws_access_key_id = credentials[profile_name][\"aws_access_key_id\"]\n",
    "    aws_secret_access_key = credentials[profile_name][\"aws_secret_access_key\"]\n",
    "\n",
    "    if not aws_access_key_id or not aws_secret_access_key:\n",
    "        logging.error(\"AWS credentials not found.\")\n",
    "        sys.exit(1)\n",
    "\n",
    "    return aws_access_key_id, aws_secret_access_key\n",
    "\n",
    "aws_access_key_id, aws_secret_access_key = load_aws_credentials()"
   ]
  },
  {
   "cell_type": "markdown",
   "id": "14c7b367",
   "metadata": {},
   "source": [
    "## 1.3 Constants variables"
   ]
  },
  {
   "cell_type": "code",
   "execution_count": 5,
   "id": "9565a27d-eb12-40a4-9551-d286a294551f",
   "metadata": {
    "vscode": {
     "languageId": "python_glue_session"
    }
   },
   "outputs": [],
   "source": [
    "# Initialize logger\n",
    "logging.basicConfig(level=logging.INFO)\n",
    "logger = logging.getLogger()"
   ]
  },
  {
   "cell_type": "code",
   "execution_count": 6,
   "id": "624b00d3",
   "metadata": {
    "vscode": {
     "languageId": "plaintext"
    }
   },
   "outputs": [],
   "source": [
    "def load_aws_config():\n",
    "    \"\"\"\n",
    "    Loads AWS configuration settings from the .aws/config file.\n",
    "\n",
    "    :param profile_name: The profile name in the AWS config file (default: \"default\").\n",
    "    :return: The region_name as a string.\n",
    "    \"\"\"\n",
    "    try:\n",
    "        config = configparser.ConfigParser()\n",
    "        config.read(os.path.join('..', '.aws', 'config'))\n",
    "        logging.info(\"Successfully loaded config variables from .aws file.\")\n",
    "\n",
    "        return config\n",
    "    except Exception as e:\n",
    "        logging.error(f\"Error loading .aws file: {e}\")\n",
    "        sys.exit(1)\n",
    "\n",
    "config = load_aws_config()"
   ]
  },
  {
   "cell_type": "code",
   "execution_count": 7,
   "id": "3b22549a-fe2c-4772-aae9-ce9d39d30beb",
   "metadata": {},
   "outputs": [],
   "source": [
    "BUCKET_NAME = config[\"paths\"][\"BUCKET_NAME\"]\n",
    "RAW = config[\"paths\"][\"RAW\"]\n",
    "ORDERS = config[\"paths\"][\"ORDERS\"]\n",
    "\n",
    "BRONZE = config[\"paths\"][\"BRONZE\"]\n",
    "SILVER = config[\"paths\"][\"SILVER\"]\n",
    "GOLD = config[\"paths\"][\"GOLD\"]\n",
    "\n",
    "ADDRESS_DATA = config[\"raw_data\"][\"ADDRESS_DATA\"]\n",
    "CLIENTS_DATA = config[\"raw_data\"][\"CLIENTS_DATA\"]\n",
    "PRODUCTS_DATA = config[\"raw_data\"][\"PRODUCTS_DATA\"]\n",
    "\n",
    "ADDRESS_TABLE = config[\"table_names\"][\"ADDRESS_TABLE\"]\n",
    "CLIENTS_TABLE = config[\"table_names\"][\"CLIENTS_TABLE\"]\n",
    "CLIENTS_ADDRESS_TABLE = config[\"table_names\"][\"CLIENTS_ADDRESS_TABLE\"]\n",
    "PRODUCTS_TABLE = config[\"table_names\"][\"PRODUCTS_TABLE\"]\n",
    "PACKAGE_TABLE = config[\"table_names\"][\"PACKAGE_TABLE\"]\n",
    "\n",
    "RAW_ADDRESS_PATH = os.path.join(BUCKET_NAME, RAW, ADDRESS_DATA)\n",
    "RAW_CIENTS_PATH = os.path.join(BUCKET_NAME, RAW, CLIENTS_DATA)\n",
    "RAW_PRODUCTS_PATH = os.path.join(BUCKET_NAME, RAW, PRODUCTS_DATA)\n",
    "\n",
    "BRONZE_ADDRESS_PATH = os.path.join(BUCKET_NAME, ORDERS, BRONZE, ADDRESS_TABLE)\n",
    "BRONZE_CLIENTS_PATH = os.path.join(BUCKET_NAME, ORDERS, BRONZE, CLIENTS_TABLE)\n",
    "BRONZE_PRODUCTS_PATH = os.path.join(BUCKET_NAME, ORDERS, BRONZE, PRODUCTS_TABLE)\n",
    "\n",
    "\n",
    "SILVER_ADDRESS_PATH = os.path.join(BUCKET_NAME, ORDERS, SILVER, ADDRESS_TABLE)\n",
    "SILVER_CLIENTS_PATH = os.path.join(BUCKET_NAME, ORDERS, SILVER, CLIENTS_TABLE)\n",
    "SILVER_PRODUCTS_PATH = os.path.join(BUCKET_NAME, ORDERS, SILVER, PRODUCTS_TABLE)\n",
    "\n",
    "GOLD_CLIENTS_ADDRESS_PATH = os.path.join(BUCKET_NAME, ORDERS, GOLD, CLIENTS_ADDRESS_TABLE)\n",
    "GOLD_PRODUCTS_PATH = os.path.join(BUCKET_NAME, ORDERS, GOLD, PRODUCTS_TABLE)\n",
    "GOLD_PACKAGE_PATH = os.path.join(BUCKET_NAME, ORDERS, GOLD, PACKAGE_TABLE)"
   ]
  },
  {
   "cell_type": "code",
   "execution_count": 8,
   "id": "323e02bb-4293-4076-9c7a-505629446eda",
   "metadata": {
    "vscode": {
     "languageId": "python_glue_session"
    }
   },
   "outputs": [],
   "source": [
    "# stream_name = config[\"default\"][\"STREAM_NAME\"]\n",
    "stream_name = \"orders_stream_4\""
   ]
  },
  {
   "cell_type": "markdown",
   "id": "cba48d61-0d07-4de0-b36e-bf2644b8dd09",
   "metadata": {},
   "source": [
    "# 2. Initialize Spark Session"
   ]
  },
  {
   "cell_type": "code",
   "execution_count": 9,
   "id": "7cf0671c-6a61-4ce8-af19-590cac0a3db8",
   "metadata": {},
   "outputs": [
    {
     "name": "stderr",
     "output_type": "stream",
     "text": [
      "24/09/30 23:41:40 WARN Utils: Your hostname, Miguels-MacBook-Air.local resolves to a loopback address: 127.0.0.1; using 192.168.0.16 instead (on interface en0)\n",
      "24/09/30 23:41:40 WARN Utils: Set SPARK_LOCAL_IP if you need to bind to another address\n"
     ]
    },
    {
     "name": "stdout",
     "output_type": "stream",
     "text": [
      ":: loading settings :: url = jar:file:/Users/miguelgranica/Documents/MBIT-DE/vpr-data_publisher/.venv/lib/python3.10/site-packages/pyspark/jars/ivy-2.5.1.jar!/org/apache/ivy/core/settings/ivysettings.xml\n"
     ]
    },
    {
     "name": "stderr",
     "output_type": "stream",
     "text": [
      "Ivy Default Cache set to: /Users/miguelgranica/.ivy2/cache\n",
      "The jars for the packages stored in: /Users/miguelgranica/.ivy2/jars\n",
      "io.delta#delta-spark_2.12 added as a dependency\n",
      "org.apache.hadoop#hadoop-aws added as a dependency\n",
      ":: resolving dependencies :: org.apache.spark#spark-submit-parent-05897ee3-5d1c-4275-83c0-3194c7fceedd;1.0\n",
      "\tconfs: [default]\n",
      "\tfound io.delta#delta-spark_2.12;3.2.0 in central\n",
      "\tfound io.delta#delta-storage;3.2.0 in central\n",
      "\tfound org.antlr#antlr4-runtime;4.9.3 in central\n",
      "\tfound org.apache.hadoop#hadoop-aws;3.3.1 in central\n",
      "\tfound com.amazonaws#aws-java-sdk-bundle;1.11.901 in central\n",
      "\tfound org.wildfly.openssl#wildfly-openssl;1.0.7.Final in central\n",
      ":: resolution report :: resolve 130ms :: artifacts dl 7ms\n",
      "\t:: modules in use:\n",
      "\tcom.amazonaws#aws-java-sdk-bundle;1.11.901 from central in [default]\n",
      "\tio.delta#delta-spark_2.12;3.2.0 from central in [default]\n",
      "\tio.delta#delta-storage;3.2.0 from central in [default]\n",
      "\torg.antlr#antlr4-runtime;4.9.3 from central in [default]\n",
      "\torg.apache.hadoop#hadoop-aws;3.3.1 from central in [default]\n",
      "\torg.wildfly.openssl#wildfly-openssl;1.0.7.Final from central in [default]\n",
      "\t---------------------------------------------------------------------\n",
      "\t|                  |            modules            ||   artifacts   |\n",
      "\t|       conf       | number| search|dwnlded|evicted|| number|dwnlded|\n",
      "\t---------------------------------------------------------------------\n",
      "\t|      default     |   6   |   0   |   0   |   0   ||   6   |   0   |\n",
      "\t---------------------------------------------------------------------\n",
      ":: retrieving :: org.apache.spark#spark-submit-parent-05897ee3-5d1c-4275-83c0-3194c7fceedd\n",
      "\tconfs: [default]\n",
      "\t0 artifacts copied, 6 already retrieved (0kB/3ms)\n",
      "24/09/30 23:42:11 WARN NativeCodeLoader: Unable to load native-hadoop library for your platform... using builtin-java classes where applicable\n",
      "Setting default log level to \"WARN\".\n",
      "To adjust logging level use sc.setLogLevel(newLevel). For SparkR, use setLogLevel(newLevel).\n",
      "24/09/30 23:42:11 WARN Utils: Service 'SparkUI' could not bind on port 4040. Attempting port 4041.\n"
     ]
    }
   ],
   "source": [
    "spark = create_spark_session(aws_access_key_id, aws_secret_access_key)"
   ]
  },
  {
   "cell_type": "markdown",
   "id": "82be8a92-0acf-4dcf-8d77-318d49da2888",
   "metadata": {},
   "source": [
    "# 2. Data generation"
   ]
  },
  {
   "cell_type": "code",
   "execution_count": 10,
   "id": "e8f43143-383a-43d2-b273-d23e1b175d24",
   "metadata": {
    "vscode": {
     "languageId": "python_glue_session"
    }
   },
   "outputs": [],
   "source": [
    "def generate_order_payload(order_details):\n",
    "    \"\"\"\n",
    "    Generate a payload for an order event.\n",
    "\n",
    "    :param order_details: Dictionary containing order details.\n",
    "    :return: Dictionary containing the payload for the order event.\n",
    "    \"\"\"\n",
    "    return {\n",
    "        \"event_id\": f\"ev-{uuid.uuid4()}\",\n",
    "        \"event_type\": \"ORDER_CREATED\",\n",
    "        \"event_timestamp\": datetime.now().strftime('%Y-%m-%d %H:%M:%S'),\n",
    "        \"order_id\": f\"ord-{uuid.uuid4()}\",\n",
    "        \"order_details\": order_details\n",
    "    }"
   ]
  },
  {
   "cell_type": "code",
   "execution_count": 11,
   "id": "7e3b58da-3f5e-4eaa-be84-d0840e2f2806",
   "metadata": {
    "vscode": {
     "languageId": "python_glue_session"
    }
   },
   "outputs": [],
   "source": [
    "# def generate_order_details(df_clients, df_products, df_packages):\n",
    "#     \"\"\"\n",
    "#     Generate order details based on client information and item list.\n",
    "\n",
    "#     :param df_clients: DataFrame containing client information.\n",
    "#     :param df_products: DataFrame containing product information.\n",
    "#     :param df_packages: DataFrame containing package information.\n",
    "#     :return: Dictionary containing order details.\n",
    "#     \"\"\"\n",
    "#     current_date = datetime.now().strftime('%Y-%m-%d %H:%M:%S')\n",
    "#     item_list = generate_item_list(df_products, df_packages)\n",
    "#     client_details = select_client_order_details(df_clients)\n",
    "\n",
    "#     return {\n",
    "#         \"customer_id\": client_details[\"client_id\"],\n",
    "#         \"order_timestamp\": datetime.now().strftime('%Y-%m-%d %H:%M:%S'),\n",
    "#         \"order_date\": datetime.now().strftime('%Y-%m-%d'),\n",
    "#         \"items\": item_list,\n",
    "#         \"total_amount\": generate_item_agg(item_list, \"price\"),\n",
    "#         \"total_volume\": generate_item_measure_agg(item_list, \"volume\"),\n",
    "#         \"status\": \"RECEIVED\",\n",
    "#         \"destination_address\": generate_destination_address_dict(client_details),\n",
    "#         \"payment_details\": {\n",
    "#             \"payment_method\": \"\",\n",
    "#             \"payment_status\": \"\",\n",
    "#             \"transaction_id\": \"\"\n",
    "#         }\n",
    "#     }\n",
    "\n",
    "# def select_client_order_details(df, primary_key_col=\"address_id\"):\n",
    "#     \"\"\"\n",
    "#     Select a random row from a DataFrame based on a unique primary key column.\n",
    "    \n",
    "#     :param df: DataFrame to select from.\n",
    "#     :param primary_key_col: Name of the primary key column. default value: address_id\n",
    "#     :return: DataFrame containing a single randomly selected row.\n",
    "#     \"\"\"\n",
    "#     # Get a list of all primary key values\n",
    "#     primary_keys = df.select(primary_key_col).rdd.flatMap(lambda x: x).collect()\n",
    "\n",
    "#     # Randomly select one primary key value\n",
    "#     random_primary_key = random.choice(primary_keys)\n",
    "\n",
    "#     # Filter the DataFrame to get the row with the random primary key\n",
    "#     random_row_df = df.filter(f.col(primary_key_col) == random_primary_key)\n",
    "\n",
    "#     # Convert the DataFrame row to dictionary and return\n",
    "#     return random_row_df.first().asDict() if random_row_df else None\n",
    "\n",
    "# def select_product_order_details(df_product, df_package,  quantity=3, primary_key_col=\"product_id\"):\n",
    "#     \"\"\"\n",
    "#     Select a random row from a DataFrame based on a unique primary key column.\n",
    "    \n",
    "#     :param df: DataFrame to select from.\n",
    "#     :param primary_key_col: Name of the primary key column. default value: product_id\n",
    "#     :param quantity: Maximum quantity of each product (default: 3).\n",
    "#     :return: DataFrame containing a single randomly selected row.\n",
    "#     \"\"\"\n",
    "#     # Get a list of all primary key values\n",
    "#     primary_keys = df_product.select(primary_key_col).rdd.flatMap(lambda x: x).collect()\n",
    "\n",
    "#     # Randomly select one primary key value\n",
    "#     random_primary_key = random.choice(primary_keys)\n",
    "\n",
    "#     # Register random choice function as a UDF\n",
    "#     weighted_random_choice_udf = f.udf(weighted_random_choice, t.IntegerType())\n",
    "\n",
    "#     # Filter the DataFrame to get the row with the random primary key\n",
    "#     random_product_df = (\n",
    "#         df_product\n",
    "#         .filter(f.col(primary_key_col) == random_primary_key)\n",
    "#         # Set random product quantity\n",
    "#         .withColumn(\"product_quantity\", weighted_random_choice_udf(f.lit(quantity)))\n",
    "#         # Explode package annidations\n",
    "#         .withColumn(\"product_components_explode\", f.explode(f.col(\"product_components\")))\n",
    "#         # Extract package information\n",
    "#         .withColumn(\"package_id\", f.explode(f.col(\"product_components_explode.package_id\")))\n",
    "#         .withColumn(\"package_quantity\", f.explode(f.col(\"product_components_explode.package_quantity\")))\n",
    "#         # Rename column\n",
    "#         .withColumnRenamed(\"name\", \"product_name\")\n",
    "#         # Join package measures\n",
    "#         .join(\n",
    "#             df_package, on=\"package_id\", how=\"left\"\n",
    "#         )\n",
    "#         # Select Columns\n",
    "#         .select(\n",
    "#             f.col(\"product_id\"),\n",
    "#             f.col(\"product_quantity\"),\n",
    "#             f.col(\"package_id\"),\n",
    "#             f.col(\"product_name\"),\n",
    "#             f.col(\"price\"),\n",
    "#             f.col(\"package_quantity\"),\n",
    "#             f.col(\"width\"),\n",
    "#             f.col(\"height\"),\n",
    "#             f.col(\"length\"),\n",
    "#             f.col(\"volume\")\n",
    "#         )\n",
    "#     )\n",
    "\n",
    "#     # Convert each DataFrame row to list of dictionary and return\n",
    "#     return [row.asDict() for row in random_product_df.collect()]\n",
    "\n",
    "# def generate_destination_address_dict(clients_dict):\n",
    "#     \"\"\"\n",
    "#     Filter unnecessary keys from the client's address dictionary.\n",
    "\n",
    "#     :param clients_dict: Dictionary containing client information.\n",
    "#     :return: Dictionary containing filtered address information.\n",
    "#     \"\"\"\n",
    "#     address_keys = [\n",
    "#         'address_id', 'neighborhood', 'coordinates', 'road', 'house_number',\n",
    "#         'suburb', 'city_district', 'state', 'postcode', 'country', 'lat', 'lon'\n",
    "#     ]\n",
    "#     return {k: v for k, v in clients_dict.items() if k in address_keys}\n",
    "\n",
    "# def generate_item_list(df_products, df_packages, items=5, quantity=3):\n",
    "#     \"\"\"\n",
    "#     Generate a list of items with details.\n",
    "    \n",
    "#     Parameters:\n",
    "#     - items: Number of items to generate details for (default: 5).\n",
    "#     - quantity: Maximum quantity of each item (default: 3).\n",
    "\n",
    "#     Returns:\n",
    "#     - List of dictionaries containing item details.\n",
    "#     \"\"\"\n",
    "#     return [        \n",
    "#         {\n",
    "#             \"product_id\": packages[0][\"product_id\"], \n",
    "#             \"product_name\": packages[0][\"product_name\"], \n",
    "#             \"price\": packages[0][\"price\"],\n",
    "#             \"quantity\": packages[0][\"product_quantity\"],\n",
    "#             \"packages\": [\n",
    "#                 {\n",
    "#                     \"package_id\": package[\"package_id\"],\n",
    "#                     \"quantity\": package[\"package_quantity\"],\n",
    "#                     \"volume\": package[\"volume\"]\n",
    "#                 } for package in packages \n",
    "#             ],\n",
    "#         }\n",
    "#         for packages in [select_product_order_details(df_products, df_packages) for num in range(weighted_random_choice(5))]\n",
    "#     ]\n",
    "    \n",
    "#     # return [ \n",
    "#     #     package \n",
    "#     #     for num in range(weighted_random_choice(5)) \n",
    "#     #     for package in select_product_order_details(df_products, df_packages, quantity)\n",
    "#     # ]\n",
    "\n",
    "#     # return [\n",
    "#     #     {\n",
    "#     #         \"product_id\": item[\"product_id\"], \n",
    "#     #         \"product_name\": item[\"product_name\"], \n",
    "#     #         \"price\": item[\"price\"], \n",
    "#     #         \"weight\": item[\"weight\"],\n",
    "#     #         \"quantity\": weighted_random_choice(quantity)\n",
    "#     #     }\n",
    "#     #     for item in [ select_client_order_details(df_products, primary_key_col=\"product_id\") for num in range(weighted_random_choice(items))]\n",
    "#     # ]\n",
    "\n",
    "# def weighted_random_choice(numbers_len):\n",
    "#     \"\"\"\n",
    "#     Select a random number from a range starting from 1 with weights based on reciprocal values.\n",
    "\n",
    "#     Parameters:\n",
    "#     - numbers_len: Length of the range of numbers starting from 1.\n",
    "\n",
    "#     Returns:\n",
    "#     - A randomly selected number based on the reciprocal weights.\n",
    "#     \"\"\"\n",
    "#     # Define numbers range starting from 1 to numbers_len\n",
    "#     numbers = np.arange(1, numbers_len + 1)\n",
    "    \n",
    "#     # Calculate weights based on reciprocal values\n",
    "#     weights = 1 / numbers\n",
    "    \n",
    "#     # Ensure the weights sum to 1\n",
    "#     normalized_weights = weights / np.sum(weights)\n",
    "    \n",
    "#     # Select a random number with the specified weights\n",
    "#     random_number = int(np.random.choice(numbers, p=normalized_weights))\n",
    "    \n",
    "#     return random_number\n",
    "\n",
    "# def generate_item_agg(items, property_name):\n",
    "#     \"\"\"\n",
    "#     Generate the aggregate value of a property for a list of items.\n",
    "\n",
    "#     :param items: List of dictionaries containing item details.\n",
    "#     :param property_name: Name of the property to aggregate.\n",
    "#     :return: Aggregate value of the specified property.\n",
    "#     \"\"\"\n",
    "#     return sum([(item['quantity'] * item[property_name]) for item in items])\n",
    "\n",
    "# def generate_item_measure_agg(items, property_name=\"volume\", quantity=\"quantity\"):\n",
    "#     \"\"\"\n",
    "#     Generate the aggregate value of a specified property for a list of items.\n",
    "\n",
    "#     This function calculates the sum of the product of item quantities, package quantities, \n",
    "#     and a specified property (e.g., volume) for each package within each item. \n",
    "#     If the specified property is `None`, it is treated as `1` to ensure the multiplication proceeds.\n",
    "\n",
    "#     :param items: List of dictionaries, where each dictionary contains details about an item and its packages.\n",
    "#     :param quantity: The key name in the dictionaries for the quantity of the item and packages (default is \"quantity\").\n",
    "#     :param property_name: The key name in the dictionaries for the property to aggregate (default is \"volume\").\n",
    "#     :return: The aggregated value of the specified property.\n",
    "#     \"\"\"\n",
    "#     return sum([\n",
    "#         item[quantity]* package[quantity] * (package[property_name] if package[property_name] is not None else 1) \n",
    "#         for item in items \n",
    "#         for package in item['packages']\n",
    "#     ])"
   ]
  },
  {
   "cell_type": "code",
   "execution_count": 12,
   "id": "91c47075-cdf2-4291-990b-2bb1371db02e",
   "metadata": {
    "scrolled": true,
    "vscode": {
     "languageId": "python_glue_session"
    }
   },
   "outputs": [
    {
     "name": "stderr",
     "output_type": "stream",
     "text": [
      "24/09/30 23:42:19 WARN MetricsConfig: Cannot locate configuration: tried hadoop-metrics2-s3a-file-system.properties,hadoop-metrics2.properties\n"
     ]
    }
   ],
   "source": [
    "df_clients_address = read_file(spark, GOLD_CLIENTS_ADDRESS_PATH, \"parquet\", gold_clients_address_schema)\n",
    "df_products = read_file(spark, GOLD_PRODUCTS_PATH, \"delta\")#spark.read.format(\"delta\").load(GOLD_PRODUCTS_PATH)\n",
    "df_packages = read_file(spark, GOLD_PACKAGE_PATH, \"delta\") #spark.read.format(\"delta\").load(GOLD_PACKAGE_PATH)"
   ]
  },
  {
   "cell_type": "code",
   "execution_count": 13,
   "id": "d9b46c99-4dcf-40e8-b81b-0e78297be2c7",
   "metadata": {},
   "outputs": [
    {
     "name": "stdout",
     "output_type": "stream",
     "text": [
      "root\n",
      " |-- product_id: string (nullable = true)\n",
      " |-- name: string (nullable = true)\n",
      " |-- category: string (nullable = true)\n",
      " |-- url: string (nullable = true)\n",
      " |-- price: float (nullable = true)\n",
      " |-- currency: string (nullable = true)\n",
      " |-- product_components: array (nullable = true)\n",
      " |    |-- element: struct (containsNull = true)\n",
      " |    |    |-- package_id: string (nullable = true)\n",
      " |    |    |-- subpackage_id: integer (nullable = true)\n",
      " |    |    |-- package_quantity: integer (nullable = true)\n",
      "\n"
     ]
    }
   ],
   "source": [
    "df_products.printSchema()"
   ]
  },
  {
   "cell_type": "code",
   "execution_count": 14,
   "id": "4f9bf047-f2b2-480e-8fed-1bddfe3d429a",
   "metadata": {},
   "outputs": [
    {
     "name": "stderr",
     "output_type": "stream",
     "text": [
      "24/09/30 23:42:34 WARN SparkStringUtils: Truncated the string representation of a plan since it was too large. This behavior can be adjusted by setting 'spark.sql.debug.maxToStringFields'.\n",
      "                                                                                \r"
     ]
    },
    {
     "name": "stdout",
     "output_type": "stream",
     "text": [
      "+----------+-------------+----------+-----+------+------+------+-------+--------------+\n",
      "|package_id|subpackage_id|      name|width|height|length|weight| volume|stock_quantity|\n",
      "+----------+-------------+----------+-----+------+------+------+-------+--------------+\n",
      "|  00245842|            1|     BESTÅ| 41.0|   8.0| 196.0| 18.01|64288.0|          1000|\n",
      "|  00263850|            1|     BILLY| 29.0|  13.0| 206.0|  37.9|77662.0|          1000|\n",
      "|  00275848|            1|    KALLAX| 41.0|  12.0| 155.0|  15.2|76260.0|          1000|\n",
      "|  00278578|            1|    HYLLIS| 29.0|   4.0| 140.0|  5.76|16240.0|          1000|\n",
      "|  00286677|            1|     HEJNE|  7.0|   3.0| 171.0|  1.77| 3591.0|          1000|\n",
      "|  00295554|            1|     BESTÅ| 36.0|   2.0|  59.0|  2.47| 4248.0|          1000|\n",
      "|  00324518|            1|    KALLAX| 41.0|  16.0| 150.0| 21.14|98400.0|          1000|\n",
      "|  00340047|            1|      EKET|  9.0|   3.0|  33.0|  0.32|  891.0|          1000|\n",
      "|  00415603|            1|     BILLY| 29.0|  13.0| 205.0| 34.79|77285.0|          1000|\n",
      "|  00415603|            2|     BILLY| 40.0|   5.0| 195.0| 14.27|39000.0|          1000|\n",
      "|  00472702|            1|    BERGIG| 47.0|  12.0| 104.0| 26.72|58656.0|          1000|\n",
      "|  00501889|            1|    KALLAX| 23.0|   4.0| 152.0|  4.88|13984.0|          1000|\n",
      "|  00515805|            1|  LINDÅSEN| 15.0|   6.0|  62.0|  2.94| 5580.0|          1000|\n",
      "|  00542494|            1|   HÖGADAL| 42.0|   3.0| 113.0|  2.57|14238.0|          1000|\n",
      "|  00569412|            1|HAVREKROSS| 13.0|   5.0|  23.0|  0.28| 1495.0|          1000|\n",
      "|  00573150|            1|  SPIKSMED| 33.0|   5.0| 139.0| 10.25|22935.0|          1000|\n",
      "|  10261129|            1|    FINNBY| 27.0|   7.0| 182.0|  19.2|34398.0|          1000|\n",
      "|  10293564|            1|  STUBBARP| 10.0|   5.0|  14.0|  0.44|  700.0|          1000|\n",
      "|  10401931|            1|     BILLY| 40.0|   8.0| 205.0| 29.06|65600.0|          1000|\n",
      "|  10407565|            1|   OTTEBOL| 40.0|   3.0| 211.0|  11.0|25320.0|          1000|\n",
      "+----------+-------------+----------+-----+------+------+------+-------+--------------+\n",
      "only showing top 20 rows\n",
      "\n"
     ]
    },
    {
     "name": "stderr",
     "output_type": "stream",
     "text": [
      "                                                                                \r"
     ]
    }
   ],
   "source": [
    "df_packages.show()"
   ]
  },
  {
   "cell_type": "code",
   "execution_count": null,
   "id": "ea3e1a39-5665-4c93-8af8-ab9efd5dcecd",
   "metadata": {},
   "outputs": [],
   "source": [
    "# # Register the function as a UDF\n",
    "# weighted_random_choice_udf = f.udf(weighted_random_choice, t.IntegerType())\n",
    "# (\n",
    "#     df_products\n",
    "#     # Set random product quantity\n",
    "#     .withColumn(\"product_quantity\", weighted_random_choice_udf(f.lit(3)))\n",
    "#     # Explode package annidations\n",
    "#     .withColumn(\"product_components_explode\", f.explode(f.col(\"product_components\")))\n",
    "#     # Extract package information\n",
    "#     .withColumn(\"package_id\", f.col(\"product_components_explode.package_id\"))\n",
    "#     .withColumn(\"subpackage_id\", f.col(\"product_components_explode.subpackage_id\"))\n",
    "#     .withColumn(\"package_quantity\", f.col(\"product_components_explode.package_quantity\"))\n",
    "#     .withColumnRenamed(\"name\", \"product_name\")\n",
    "#     .join(\n",
    "#         df_packages, on=[\"package_id\", \"subpackage_id\"], how=\"left\"\n",
    "#     )\n",
    "#     # Select Columns\n",
    "#     .select(\n",
    "#         f.col(\"product_id\"),\n",
    "#         f.col(\"product_quantity\"),\n",
    "#         f.col(\"package_id\"),\n",
    "#         f.col(\"subpackage_id\"),\n",
    "#         # f.col(\"name\"),\n",
    "#         f.col(\"product_name\"),\n",
    "#         f.col(\"price\"),\n",
    "#         f.col(\"package_quantity\"),\n",
    "#         f.col(\"width\"),\n",
    "#         f.col(\"height\"),\n",
    "#         f.col(\"length\"),\n",
    "#         f.col(\"weight\"),\n",
    "#         f.col(\"volume\")\n",
    "#     )\n",
    "# ).show()"
   ]
  },
  {
   "cell_type": "code",
   "execution_count": 15,
   "id": "c7fab451-e84e-4613-a095-c88c0577e6e1",
   "metadata": {},
   "outputs": [
    {
     "name": "stderr",
     "output_type": "stream",
     "text": [
      "                                                                                \r"
     ]
    },
    {
     "data": {
      "text/plain": [
       "[{'product_id': 'prod-a0380a40-4626-4fc7-ad86-5e15b73e8649',\n",
       "  'product_quantity': 1,\n",
       "  'package_id': '30559732',\n",
       "  'subpackage_id': 1,\n",
       "  'product_name': 'PLATSA',\n",
       "  'price': 79.0,\n",
       "  'package_quantity': 1,\n",
       "  'width': 43.0,\n",
       "  'height': 8.0,\n",
       "  'length': 126.0,\n",
       "  'weight': 14.529999732971191,\n",
       "  'volume': 43344.0}]"
      ]
     },
     "execution_count": 15,
     "metadata": {},
     "output_type": "execute_result"
    }
   ],
   "source": [
    "select_product_order_details(df_products, df_packages)"
   ]
  },
  {
   "cell_type": "code",
   "execution_count": 16,
   "id": "2b5daa41-555c-4925-94c8-c2410144e5a7",
   "metadata": {},
   "outputs": [
    {
     "data": {
      "text/plain": [
       "[{'product_id': 'prod-ebf36584-be78-4ac6-a212-5f2b112a6eb3',\n",
       "  'product_name': 'FJÄLLBO',\n",
       "  'price': 69.98999786376953,\n",
       "  'quantity': 2,\n",
       "  'packages': [{'package_id': '70342199',\n",
       "    'subpackage_id': 1,\n",
       "    'quantity': 1,\n",
       "    'weight': 11.0,\n",
       "    'volume': 44955.0}]},\n",
       " {'product_id': 'prod-01b0fd21-90e9-4e38-9ff6-2fa8166f8f1b',\n",
       "  'product_name': 'BILLY',\n",
       "  'price': 99.0,\n",
       "  'quantity': 1,\n",
       "  'packages': [{'package_id': '10401931',\n",
       "    'subpackage_id': 1,\n",
       "    'quantity': 1,\n",
       "    'weight': 29.059999465942383,\n",
       "    'volume': 65600.0},\n",
       "   {'package_id': '10407565',\n",
       "    'subpackage_id': 1,\n",
       "    'quantity': 1,\n",
       "    'weight': 11.0,\n",
       "    'volume': 25320.0}]}]"
      ]
     },
     "execution_count": 16,
     "metadata": {},
     "output_type": "execute_result"
    }
   ],
   "source": [
    "item_list = generate_item_list(df_products, df_packages)\n",
    "item_list"
   ]
  },
  {
   "cell_type": "code",
   "execution_count": 17,
   "id": "7b13cf99-c693-4070-b6a9-949c882db5cc",
   "metadata": {},
   "outputs": [
    {
     "data": {
      "text/plain": [
       "180830.0"
      ]
     },
     "execution_count": 17,
     "metadata": {},
     "output_type": "execute_result"
    }
   ],
   "source": [
    "generate_item_measure_agg(item_list)"
   ]
  },
  {
   "cell_type": "code",
   "execution_count": 18,
   "id": "d9529079-2393-4a7f-9183-d542242baf03",
   "metadata": {
    "scrolled": true,
    "vscode": {
     "languageId": "python_glue_session"
    }
   },
   "outputs": [
    {
     "name": "stdout",
     "output_type": "stream",
     "text": [
      "{\n",
      "    \"customer_id\": \"cus-d1adb46b-2542-4037-88e0-1edecb3d14e0\",\n",
      "    \"order_timestamp\": \"2024-09-30 23:43:11\",\n",
      "    \"order_date\": \"2024-09-30\",\n",
      "    \"items\": [\n",
      "        {\n",
      "            \"product_id\": \"prod-5693e293-45b3-4aa7-9805-6116b4fb6b94\",\n",
      "            \"product_name\": \"BILLY\",\n",
      "            \"price\": 34.9900016784668,\n",
      "            \"quantity\": 1,\n",
      "            \"packages\": [\n",
      "                {\n",
      "                    \"package_id\": \"80263832\",\n",
      "                    \"subpackage_id\": 1,\n",
      "                    \"quantity\": 1,\n",
      "                    \"weight\": 11.760000228881836,\n",
      "                    \"volume\": 25506.0\n",
      "                }\n",
      "            ]\n",
      "        },\n",
      "        {\n",
      "            \"product_id\": \"prod-df7617ef-f810-429c-836b-0a565c45bf98\",\n",
      "            \"product_name\": \"KALLAX\",\n",
      "            \"price\": 25.0,\n",
      "            \"quantity\": 2,\n",
      "            \"packages\": [\n",
      "                {\n",
      "                    \"package_id\": \"90508508\",\n",
      "                    \"subpackage_id\": 1,\n",
      "                    \"quantity\": 1,\n",
      "                    \"weight\": 5.21999979019165,\n",
      "                    \"volume\": 9044.0\n",
      "                }\n",
      "            ]\n",
      "        },\n",
      "        {\n",
      "            \"product_id\": \"prod-56c8fc85-21f6-43ca-810d-d60d596d8026\",\n",
      "            \"product_name\": \"BILLY\",\n",
      "            \"price\": 25.0,\n",
      "            \"quantity\": 1,\n",
      "            \"packages\": [\n",
      "                {\n",
      "                    \"package_id\": \"40263853\",\n",
      "                    \"subpackage_id\": 1,\n",
      "                    \"quantity\": 1,\n",
      "                    \"weight\": 6.710000038146973,\n",
      "                    \"volume\": 16632.0\n",
      "                }\n",
      "            ]\n",
      "        }\n",
      "    ],\n",
      "    \"total_amount\": 109.9900016784668,\n",
      "    \"total_volume\": 60226.0,\n",
      "    \"total_weight\": 28.90999984741211,\n",
      "    \"status\": \"RECEIVED\",\n",
      "    \"destination_address\": {\n",
      "        \"address_id\": \"cus-a1732150-7e27-4e9c-b81f-68b88a6989a8\",\n",
      "        \"neighborhood\": \"Moratalaz\",\n",
      "        \"coordinates\": [\n",
      "            40.40755116027019,\n",
      "            -3.6563083407194723\n",
      "        ],\n",
      "        \"road\": \"Avenida de Moratalaz\",\n",
      "        \"house_number\": \"51\",\n",
      "        \"suburb\": \"Moratalaz\",\n",
      "        \"city_district\": \"\",\n",
      "        \"state\": \"Comunidad de Madrid\",\n",
      "        \"postcode\": \"28030\",\n",
      "        \"country\": \"Espa\\u00f1a\",\n",
      "        \"lat\": 40.407684326171875,\n",
      "        \"lon\": -3.6565542221069336\n",
      "    },\n",
      "    \"payment_details\": {\n",
      "        \"payment_method\": \"\",\n",
      "        \"payment_status\": \"\",\n",
      "        \"transaction_id\": \"\"\n",
      "    }\n",
      "}\n"
     ]
    },
    {
     "name": "stderr",
     "output_type": "stream",
     "text": [
      "                                                                                \r"
     ]
    }
   ],
   "source": [
    "order_details = generate_order_details(df_clients_address, df_products, df_packages)\n",
    "print(json.dumps(order_details, indent=4))"
   ]
  },
  {
   "cell_type": "code",
   "execution_count": 19,
   "id": "4d4d486c-4ec1-4e7c-bee6-94aabd3d6661",
   "metadata": {
    "scrolled": true,
    "vscode": {
     "languageId": "python_glue_session"
    }
   },
   "outputs": [
    {
     "name": "stdout",
     "output_type": "stream",
     "text": [
      "{\n",
      "    \"event_id\": \"ev-751d5158-32ac-4cb2-9c7f-7bee43cf5a39\",\n",
      "    \"event_type\": \"ORDER_CREATED\",\n",
      "    \"event_timestamp\": \"2024-09-30 23:43:11\",\n",
      "    \"order_id\": \"ord-c715d632-cff4-4bae-90a4-7aaaf91f408c\",\n",
      "    \"order_details\": {\n",
      "        \"customer_id\": \"cus-d1adb46b-2542-4037-88e0-1edecb3d14e0\",\n",
      "        \"order_timestamp\": \"2024-09-30 23:43:11\",\n",
      "        \"order_date\": \"2024-09-30\",\n",
      "        \"items\": [\n",
      "            {\n",
      "                \"product_id\": \"prod-5693e293-45b3-4aa7-9805-6116b4fb6b94\",\n",
      "                \"product_name\": \"BILLY\",\n",
      "                \"price\": 34.9900016784668,\n",
      "                \"quantity\": 1,\n",
      "                \"packages\": [\n",
      "                    {\n",
      "                        \"package_id\": \"80263832\",\n",
      "                        \"subpackage_id\": 1,\n",
      "                        \"quantity\": 1,\n",
      "                        \"weight\": 11.760000228881836,\n",
      "                        \"volume\": 25506.0\n",
      "                    }\n",
      "                ]\n",
      "            },\n",
      "            {\n",
      "                \"product_id\": \"prod-df7617ef-f810-429c-836b-0a565c45bf98\",\n",
      "                \"product_name\": \"KALLAX\",\n",
      "                \"price\": 25.0,\n",
      "                \"quantity\": 2,\n",
      "                \"packages\": [\n",
      "                    {\n",
      "                        \"package_id\": \"90508508\",\n",
      "                        \"subpackage_id\": 1,\n",
      "                        \"quantity\": 1,\n",
      "                        \"weight\": 5.21999979019165,\n",
      "                        \"volume\": 9044.0\n",
      "                    }\n",
      "                ]\n",
      "            },\n",
      "            {\n",
      "                \"product_id\": \"prod-56c8fc85-21f6-43ca-810d-d60d596d8026\",\n",
      "                \"product_name\": \"BILLY\",\n",
      "                \"price\": 25.0,\n",
      "                \"quantity\": 1,\n",
      "                \"packages\": [\n",
      "                    {\n",
      "                        \"package_id\": \"40263853\",\n",
      "                        \"subpackage_id\": 1,\n",
      "                        \"quantity\": 1,\n",
      "                        \"weight\": 6.710000038146973,\n",
      "                        \"volume\": 16632.0\n",
      "                    }\n",
      "                ]\n",
      "            }\n",
      "        ],\n",
      "        \"total_amount\": 109.9900016784668,\n",
      "        \"total_volume\": 60226.0,\n",
      "        \"total_weight\": 28.90999984741211,\n",
      "        \"status\": \"RECEIVED\",\n",
      "        \"destination_address\": {\n",
      "            \"address_id\": \"cus-a1732150-7e27-4e9c-b81f-68b88a6989a8\",\n",
      "            \"neighborhood\": \"Moratalaz\",\n",
      "            \"coordinates\": [\n",
      "                40.40755116027019,\n",
      "                -3.6563083407194723\n",
      "            ],\n",
      "            \"road\": \"Avenida de Moratalaz\",\n",
      "            \"house_number\": \"51\",\n",
      "            \"suburb\": \"Moratalaz\",\n",
      "            \"city_district\": \"\",\n",
      "            \"state\": \"Comunidad de Madrid\",\n",
      "            \"postcode\": \"28030\",\n",
      "            \"country\": \"Espa\\u00f1a\",\n",
      "            \"lat\": 40.407684326171875,\n",
      "            \"lon\": -3.6565542221069336\n",
      "        },\n",
      "        \"payment_details\": {\n",
      "            \"payment_method\": \"\",\n",
      "            \"payment_status\": \"\",\n",
      "            \"transaction_id\": \"\"\n",
      "        }\n",
      "    }\n",
      "}\n"
     ]
    }
   ],
   "source": [
    "order_stream = generate_order_payload(order_details)\n",
    "print(json.dumps(order_stream, indent=4))"
   ]
  },
  {
   "cell_type": "code",
   "execution_count": 20,
   "id": "73a2cee6-72c4-40e5-8915-c99b0a2293d2",
   "metadata": {
    "vscode": {
     "languageId": "python_glue_session"
    }
   },
   "outputs": [
    {
     "data": {
      "text/plain": [
       "'ord-c715d632-cff4-4bae-90a4-7aaaf91f408c'"
      ]
     },
     "execution_count": 20,
     "metadata": {},
     "output_type": "execute_result"
    }
   ],
   "source": [
    "order_stream['order_id'] #['orderDetails']['destinationAddress']['neighborhood']"
   ]
  },
  {
   "cell_type": "markdown",
   "id": "4c19dc0c-b215-43b5-b4cc-eb4196acbeea",
   "metadata": {},
   "source": [
    "# 3. Stream producer"
   ]
  },
  {
   "cell_type": "code",
   "execution_count": 21,
   "id": "e3c64492-b64c-4bdb-bd41-7b62243414d6",
   "metadata": {
    "vscode": {
     "languageId": "python_glue_session"
    }
   },
   "outputs": [],
   "source": [
    "kinesis_client = boto3.client(\n",
    "    'kinesis', \n",
    "    aws_access_key_id=aws_access_key_id,\n",
    "    aws_secret_access_key=aws_secret_access_key,\n",
    "    # aws_session_token=aws_session_token,\n",
    "    region_name='eu-south-2'\n",
    ")"
   ]
  },
  {
   "cell_type": "code",
   "execution_count": 22,
   "id": "ddcd8712-af60-4548-b856-7ba15ba2463c",
   "metadata": {},
   "outputs": [
    {
     "name": "stdout",
     "output_type": "stream",
     "text": [
      "ACTIVE\n"
     ]
    }
   ],
   "source": [
    "response = kinesis_client.describe_stream(StreamName=stream_name)\n",
    "print(response['StreamDescription']['StreamStatus'])"
   ]
  },
  {
   "cell_type": "code",
   "execution_count": 23,
   "id": "1edcc55b-e14a-4cd3-ae48-d6820567aeb2",
   "metadata": {},
   "outputs": [
    {
     "name": "stdout",
     "output_type": "stream",
     "text": [
      "[{'ShardId': 'shardId-000000000000', 'HashKeyRange': {'StartingHashKey': '0', 'EndingHashKey': '340282366920938463463374607431768211455'}, 'SequenceNumberRange': {'StartingSequenceNumber': '49656326133938285393239909474654951511725388248247173122'}}]\n"
     ]
    }
   ],
   "source": [
    "print(response['StreamDescription']['Shards'])"
   ]
  },
  {
   "cell_type": "code",
   "execution_count": 24,
   "id": "051b87f1-b2f1-4284-981b-596ecda4394a",
   "metadata": {
    "vscode": {
     "languageId": "python_glue_session"
    }
   },
   "outputs": [],
   "source": [
    "def produce_order(payload):\n",
    "    try:\n",
    "        # Ensure payload is correctly formatted and partition key is a string\n",
    "        if 'event_type' not in payload or not isinstance(payload['event_type'], str):\n",
    "            raise ValueError(\"Payload must include 'event_type' as a string\")\n",
    "        \n",
    "        data = json.dumps(payload).encode()\n",
    "        put_response = kinesis_client.put_record(\n",
    "            StreamName=stream_name,\n",
    "            Data=data,\n",
    "            PartitionKey=payload['event_type']\n",
    "        )\n",
    "        \n",
    "        # Log response details\n",
    "        logger.info(f\"Put record response: {put_response}\")\n",
    "        return put_response\n",
    "    except Exception as e:\n",
    "        logger.error(f\"Failed to put record to stream: {e}\", exc_info=True)\n",
    "        return None"
   ]
  },
  {
   "cell_type": "code",
   "execution_count": 25,
   "id": "f3d479d1-0942-40a9-af97-6cd163ea5e3b",
   "metadata": {
    "vscode": {
     "languageId": "python_glue_session"
    }
   },
   "outputs": [
    {
     "name": "stdout",
     "output_type": "stream",
     "text": [
      "{\n",
      "    \"event_id\": \"ev-8c46f837-2adb-40b0-829d-75e1b743995f\",\n",
      "    \"event_type\": \"ORDER_CREATED\",\n",
      "    \"event_timestamp\": \"2024-09-30 23:43:35\",\n",
      "    \"order_id\": \"ord-a719c627-e658-4502-85d9-b31934cd2239\",\n",
      "    \"order_details\": {\n",
      "        \"customer_id\": \"cus-4851ac82-038f-4f72-ac88-f22579210d32\",\n",
      "        \"order_timestamp\": \"2024-09-30 23:43:35\",\n",
      "        \"order_date\": \"2024-09-30\",\n",
      "        \"items\": [\n",
      "            {\n",
      "                \"product_id\": \"prod-3a27bedc-bc22-4474-ba9d-b24ad4922c9a\",\n",
      "                \"product_name\": \"BILLY\",\n",
      "                \"price\": 159.99000549316406,\n",
      "                \"quantity\": 2,\n",
      "                \"packages\": [\n",
      "                    {\n",
      "                        \"package_id\": \"00263850\",\n",
      "                        \"subpackage_id\": 1,\n",
      "                        \"quantity\": 1,\n",
      "                        \"weight\": 37.900001525878906,\n",
      "                        \"volume\": 77662.0\n",
      "                    },\n",
      "                    {\n",
      "                        \"package_id\": \"90275617\",\n",
      "                        \"subpackage_id\": 1,\n",
      "                        \"quantity\": 1,\n",
      "                        \"weight\": 9.270000457763672,\n",
      "                        \"volume\": 25320.0\n",
      "                    }\n",
      "                ]\n",
      "            },\n",
      "            {\n",
      "                \"product_id\": \"prod-ec552a09-649e-4de4-8f0a-3ceda66e3776\",\n",
      "                \"product_name\": \"HEMNES\",\n",
      "                \"price\": 299.0,\n",
      "                \"quantity\": 2,\n",
      "                \"packages\": [\n",
      "                    {\n",
      "                        \"package_id\": \"50413507\",\n",
      "                        \"subpackage_id\": 1,\n",
      "                        \"quantity\": 1,\n",
      "                        \"weight\": 20.18000030517578,\n",
      "                        \"volume\": 49894.0\n",
      "                    },\n",
      "                    {\n",
      "                        \"package_id\": \"50413507\",\n",
      "                        \"subpackage_id\": 2,\n",
      "                        \"quantity\": 1,\n",
      "                        \"weight\": 28.780000686645508,\n",
      "                        \"volume\": 88000.0\n",
      "                    }\n",
      "                ]\n",
      "            }\n",
      "        ],\n",
      "        \"total_amount\": 917.9800109863281,\n",
      "        \"total_volume\": 481752.0,\n",
      "        \"total_weight\": 192.26000595092773,\n",
      "        \"status\": \"RECEIVED\",\n",
      "        \"destination_address\": {\n",
      "            \"address_id\": \"cus-1e5ab542-1c4a-4147-be89-77d66d655f60\",\n",
      "            \"neighborhood\": \"Puente de Vallecas\",\n",
      "            \"coordinates\": [\n",
      "                40.374301270225075,\n",
      "                -3.6853011723601727\n",
      "            ],\n",
      "            \"road\": \"Autov\\u00eda del Sur\",\n",
      "            \"house_number\": \"\",\n",
      "            \"suburb\": \"Puente de Vallecas\",\n",
      "            \"city_district\": \"\",\n",
      "            \"state\": \"Comunidad de Madrid\",\n",
      "            \"postcode\": \"28053\",\n",
      "            \"country\": \"Espa\\u00f1a\",\n",
      "            \"lat\": 40.374488830566406,\n",
      "            \"lon\": -3.685507297515869\n",
      "        },\n",
      "        \"payment_details\": {\n",
      "            \"payment_method\": \"\",\n",
      "            \"payment_status\": \"\",\n",
      "            \"transaction_id\": \"\"\n",
      "        }\n",
      "    }\n",
      "}\n"
     ]
    }
   ],
   "source": [
    "order_payload = generate_order_payload(generate_order_details(df_clients_address, df_products, df_packages))\n",
    "print(json.dumps(order_payload, indent=4))"
   ]
  },
  {
   "cell_type": "code",
   "execution_count": 26,
   "id": "ccc4d2c7-ae2b-4cfb-b08e-4cca7d1bd63c",
   "metadata": {
    "vscode": {
     "languageId": "python_glue_session"
    }
   },
   "outputs": [
    {
     "data": {
      "text/plain": [
       "{'ShardId': 'shardId-000000000000',\n",
       " 'SequenceNumber': '49656326133938285393239909490760261280632782821668159490',\n",
       " 'ResponseMetadata': {'RequestId': 'eadeb704-5658-254e-b5ab-aad5a4460350',\n",
       "  'HTTPStatusCode': 200,\n",
       "  'HTTPHeaders': {'x-amzn-requestid': 'eadeb704-5658-254e-b5ab-aad5a4460350',\n",
       "   'x-amz-id-2': '4fAG6N6OTHBspASY1/23GgosZ4dRns9aAbxuTBikEJnO8wBDZ8Pb7kNteH6T7pT9SFkEmhqu6AO/EFQanDb721AWw/Hdm9mx',\n",
       "   'date': 'Mon, 30 Sep 2024 21:43:45 GMT',\n",
       "   'content-type': 'application/x-amz-json-1.1',\n",
       "   'content-length': '110',\n",
       "   'connection': 'keep-alive'},\n",
       "  'RetryAttempts': 0}}"
      ]
     },
     "execution_count": 26,
     "metadata": {},
     "output_type": "execute_result"
    }
   ],
   "source": [
    "order_payload = generate_order_payload(generate_order_details(df_clients_address, df_products, df_packages))\n",
    "produce_order(order_payload)"
   ]
  },
  {
   "cell_type": "code",
   "execution_count": 27,
   "id": "d48ca955-c3d7-46a8-b562-bb26a2bb4c01",
   "metadata": {
    "editable": true,
    "slideshow": {
     "slide_type": ""
    },
    "tags": [],
    "vscode": {
     "languageId": "python_glue_session"
    }
   },
   "outputs": [
    {
     "name": "stderr",
     "output_type": "stream",
     "text": [
      "                                                                                \r"
     ]
    }
   ],
   "source": [
    "# Produce orders at regular intervals (for example, every second)\n",
    "for order in range(1, 10 + 1):\n",
    "    order_payload = order_payload = generate_order_payload(generate_order_details(df_clients_address, df_products, df_packages))\n",
    "    produce_order(order_payload)\n",
    "    time.sleep(5)"
   ]
  },
  {
   "cell_type": "code",
   "execution_count": null,
   "id": "5e4d2afa-79e9-48c4-98c3-2a7a2c8b4142",
   "metadata": {},
   "outputs": [],
   "source": []
  }
 ],
 "metadata": {
  "kernelspec": {
   "display_name": "Python 3 (ipykernel)",
   "language": "python",
   "name": "python3"
  },
  "language_info": {
   "codemirror_mode": {
    "name": "ipython",
    "version": 3
   },
   "file_extension": ".py",
   "mimetype": "text/x-python",
   "name": "python",
   "nbconvert_exporter": "python",
   "pygments_lexer": "ipython3",
   "version": "3.10.11"
  }
 },
 "nbformat": 4,
 "nbformat_minor": 5
}
