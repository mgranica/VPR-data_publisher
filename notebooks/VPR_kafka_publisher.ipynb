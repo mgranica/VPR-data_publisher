{
 "cells": [
  {
   "cell_type": "code",
   "execution_count": 1,
   "id": "245a4dbd-bf86-44dc-a234-6f80dc048508",
   "metadata": {
    "vscode": {
     "languageId": "python_glue_session"
    }
   },
   "outputs": [],
   "source": [
    "import sys\n",
    "import os\n",
    "import yaml\n",
    "import configparser\n",
    "\n",
    "# Add the src directory to the sys.path\n",
    "sys.path.append(os.path.abspath(os.path.join('..', 'src')))"
   ]
  },
  {
   "cell_type": "markdown",
   "id": "52290272-2444-4fd2-82aa-664465e34a2d",
   "metadata": {},
   "source": [
    "Consideraciones:\n",
    "* generar schema de validacion de streams\n",
    "* introducir crdenciales a traves del entorno de docker - ENV variables en .ipynb no funcionan\n",
    "* optimizar filtrado de id incluir particion?\n",
    "* structura de micro servicios: inventory consumer - producer\n",
    "* diseño de sistemas: filtrar ordenes efectuadas para los siguientes envios\n",
    "* confirmar Best pracitces para el manejo de streams: memorytable vs readStream\n",
    "* confirmar best practice para pertion key del stream\n",
    "* Arquitectura Lambda\n",
    "* builling de S3 por fichero registrado: definir criterios de particion\n",
    "* emplear memory format para lectura de streams\n",
    "* best practices para gestionar checkpoints\n",
    "* firehose implementarlo"
   ]
  },
  {
   "cell_type": "markdown",
   "id": "a35e50b2-b78f-4c50-8d48-631fd084fca2",
   "metadata": {},
   "source": [
    "# 1. Environment Configuration"
   ]
  },
  {
   "cell_type": "markdown",
   "id": "5734e828",
   "metadata": {},
   "source": [
    "## 1.1 Import dependencies"
   ]
  },
  {
   "cell_type": "code",
   "execution_count": 2,
   "id": "292bab02-b9a6-4721-91dc-ac185d736140",
   "metadata": {
    "vscode": {
     "languageId": "python_glue_session"
    }
   },
   "outputs": [],
   "source": [
    "import boto3\n",
    "import json\n",
    "import os\n",
    "from uuid import uuid4\n",
    "from datetime import datetime\n",
    "from datetime import timedelta\n",
    "import time\n",
    "import random\n",
    "import uuid\n",
    "import logging\n",
    "import numpy as np\n",
    "\n",
    "from kafka import KafkaProducer\n",
    "import pyspark.sql.types as t\n",
    "import pyspark.sql.functions as f"
   ]
  },
  {
   "cell_type": "code",
   "execution_count": 3,
   "id": "b5780f5e-73f6-4f24-98cd-baea049c7af6",
   "metadata": {},
   "outputs": [],
   "source": [
    "from spark_session import create_spark_session\n",
    "from schemas import *\n",
    "from functions import *"
   ]
  },
  {
   "cell_type": "markdown",
   "id": "f62f1c07",
   "metadata": {},
   "source": [
    "## 1.2 Extract AWS credentials"
   ]
  },
  {
   "cell_type": "code",
   "execution_count": 4,
   "id": "2bb79a62-d553-40a4-9d0d-4a42c9512ee2",
   "metadata": {
    "vscode": {
     "languageId": "python_glue_session"
    }
   },
   "outputs": [],
   "source": [
    "def load_aws_credentials(profile_name=\"default\"):\n",
    "\n",
    "    # Load credentials from the .aws/credentials file (local development)\n",
    "    try:\n",
    "        credentials = configparser.ConfigParser()\n",
    "        credentials.read(os.path.join('..', '.aws', 'credentials'))\n",
    "        \n",
    "        logging.info(\"Successfully loaded credentials variables from .aws file.\")\n",
    "    except Exception as e:\n",
    "        logging.error(f\"Error loading .aws file: {e}\")\n",
    "        sys.exit(1)\n",
    "\n",
    "    aws_access_key_id = credentials[profile_name][\"aws_access_key_id\"]\n",
    "    aws_secret_access_key = credentials[profile_name][\"aws_secret_access_key\"]\n",
    "\n",
    "    if not aws_access_key_id or not aws_secret_access_key:\n",
    "        logging.error(\"AWS credentials not found.\")\n",
    "        sys.exit(1)\n",
    "\n",
    "    return aws_access_key_id, aws_secret_access_key\n",
    "\n",
    "aws_access_key_id, aws_secret_access_key = load_aws_credentials()"
   ]
  },
  {
   "cell_type": "markdown",
   "id": "14c7b367",
   "metadata": {},
   "source": [
    "## 1.3 Constants variables"
   ]
  },
  {
   "cell_type": "code",
   "execution_count": 5,
   "id": "9565a27d-eb12-40a4-9551-d286a294551f",
   "metadata": {
    "vscode": {
     "languageId": "python_glue_session"
    }
   },
   "outputs": [],
   "source": [
    "# Initialize logger\n",
    "logging.basicConfig(level=logging.INFO)\n",
    "logger = logging.getLogger()"
   ]
  },
  {
   "cell_type": "code",
   "execution_count": 6,
   "id": "624b00d3",
   "metadata": {
    "vscode": {
     "languageId": "plaintext"
    }
   },
   "outputs": [],
   "source": [
    "def load_aws_config():\n",
    "    \"\"\"\n",
    "    Loads AWS configuration settings from the .aws/config file.\n",
    "\n",
    "    :param profile_name: The profile name in the AWS config file (default: \"default\").\n",
    "    :return: The region_name as a string.\n",
    "    \"\"\"\n",
    "    try:\n",
    "        config = configparser.ConfigParser()\n",
    "        config.read(os.path.join('..', '.aws', 'config'))\n",
    "        logging.info(\"Successfully loaded config variables from .aws file.\")\n",
    "\n",
    "        return config\n",
    "    except Exception as e:\n",
    "        logging.error(f\"Error loading .aws file: {e}\")\n",
    "        sys.exit(1)\n",
    "\n",
    "config = load_aws_config()"
   ]
  },
  {
   "cell_type": "code",
   "execution_count": 7,
   "id": "3b22549a-fe2c-4772-aae9-ce9d39d30beb",
   "metadata": {},
   "outputs": [],
   "source": [
    "BUCKET_NAME = config[\"paths\"][\"BUCKET_NAME\"]\n",
    "RAW = config[\"paths\"][\"RAW\"]\n",
    "ORDERS = config[\"paths\"][\"ORDERS\"]\n",
    "\n",
    "BRONZE = config[\"paths\"][\"BRONZE\"]\n",
    "SILVER = config[\"paths\"][\"SILVER\"]\n",
    "GOLD = config[\"paths\"][\"GOLD\"]\n",
    "\n",
    "ADDRESS_DATA = config[\"raw_data\"][\"ADDRESS_DATA\"]\n",
    "CLIENTS_DATA = config[\"raw_data\"][\"CLIENTS_DATA\"]\n",
    "PRODUCTS_DATA = config[\"raw_data\"][\"PRODUCTS_DATA\"]\n",
    "\n",
    "ADDRESS_TABLE = config[\"table_names\"][\"ADDRESS_TABLE\"]\n",
    "CLIENTS_TABLE = config[\"table_names\"][\"CLIENTS_TABLE\"]\n",
    "CLIENTS_ADDRESS_TABLE = config[\"table_names\"][\"CLIENTS_ADDRESS_TABLE\"]\n",
    "PRODUCTS_TABLE = config[\"table_names\"][\"PRODUCTS_TABLE\"]\n",
    "PACKAGE_TABLE = config[\"table_names\"][\"PACKAGE_TABLE\"]\n",
    "\n",
    "RAW_ADDRESS_PATH = os.path.join(BUCKET_NAME, RAW, ADDRESS_DATA)\n",
    "RAW_CIENTS_PATH = os.path.join(BUCKET_NAME, RAW, CLIENTS_DATA)\n",
    "RAW_PRODUCTS_PATH = os.path.join(BUCKET_NAME, RAW, PRODUCTS_DATA)\n",
    "\n",
    "BRONZE_ADDRESS_PATH = os.path.join(BUCKET_NAME, ORDERS, BRONZE, ADDRESS_TABLE)\n",
    "BRONZE_CLIENTS_PATH = os.path.join(BUCKET_NAME, ORDERS, BRONZE, CLIENTS_TABLE)\n",
    "BRONZE_PRODUCTS_PATH = os.path.join(BUCKET_NAME, ORDERS, BRONZE, PRODUCTS_TABLE)\n",
    "\n",
    "\n",
    "SILVER_ADDRESS_PATH = os.path.join(BUCKET_NAME, ORDERS, SILVER, ADDRESS_TABLE)\n",
    "SILVER_CLIENTS_PATH = os.path.join(BUCKET_NAME, ORDERS, SILVER, CLIENTS_TABLE)\n",
    "SILVER_PRODUCTS_PATH = os.path.join(BUCKET_NAME, ORDERS, SILVER, PRODUCTS_TABLE)\n",
    "\n",
    "GOLD_CLIENTS_ADDRESS_PATH = os.path.join(BUCKET_NAME, ORDERS, GOLD, CLIENTS_ADDRESS_TABLE)\n",
    "GOLD_PRODUCTS_PATH = os.path.join(BUCKET_NAME, ORDERS, GOLD, PRODUCTS_TABLE)\n",
    "GOLD_PACKAGE_PATH = os.path.join(BUCKET_NAME, ORDERS, GOLD, PACKAGE_TABLE)"
   ]
  },
  {
   "cell_type": "code",
   "execution_count": 8,
   "id": "323e02bb-4293-4076-9c7a-505629446eda",
   "metadata": {
    "vscode": {
     "languageId": "python_glue_session"
    }
   },
   "outputs": [],
   "source": [
    "# stream_name = \"orders_stream_2\" #config[\"default\"][\"STREAM_NAME\"]\n",
    "TOPIC_NAME = \"order_stream\"\n",
    "BOOTSTRAP_SERVER = \"51.92.77.20:9092\""
   ]
  },
  {
   "cell_type": "markdown",
   "id": "cba48d61-0d07-4de0-b36e-bf2644b8dd09",
   "metadata": {},
   "source": [
    "# 2. Initialize Spark Session"
   ]
  },
  {
   "cell_type": "code",
   "execution_count": null,
   "id": "7cf0671c-6a61-4ce8-af19-590cac0a3db8",
   "metadata": {},
   "outputs": [],
   "source": [
    "spark = create_spark_session(aws_access_key_id, aws_secret_access_key)"
   ]
  },
  {
   "cell_type": "markdown",
   "id": "82be8a92-0acf-4dcf-8d77-318d49da2888",
   "metadata": {},
   "source": [
    "# 2. Data generation"
   ]
  },
  {
   "cell_type": "code",
   "execution_count": null,
   "id": "e8f43143-383a-43d2-b273-d23e1b175d24",
   "metadata": {
    "vscode": {
     "languageId": "python_glue_session"
    }
   },
   "outputs": [],
   "source": [
    "def generate_order_payload(order_details):\n",
    "    \"\"\"\n",
    "    Generate a payload for an order event.\n",
    "\n",
    "    :param order_details: Dictionary containing order details.\n",
    "    :return: Dictionary containing the payload for the order event.\n",
    "    \"\"\"\n",
    "    return {\n",
    "        \"event_id\": f\"ev-{uuid.uuid4()}\",\n",
    "        \"event_type\": \"ORDER_CREATED\",\n",
    "        \"event_timestamp\": datetime.now().strftime('%Y-%m-%d %H:%M:%S'),\n",
    "        \"order_id\": f\"ord-{uuid.uuid4()}\",\n",
    "        \"order_details\": order_details\n",
    "    }"
   ]
  },
  {
   "cell_type": "code",
   "execution_count": null,
   "id": "91c47075-cdf2-4291-990b-2bb1371db02e",
   "metadata": {
    "scrolled": true,
    "vscode": {
     "languageId": "python_glue_session"
    }
   },
   "outputs": [],
   "source": [
    "df_clients_address = read_file(spark, GOLD_CLIENTS_ADDRESS_PATH, \"parquet\", gold_clients_address_schema)\n",
    "df_products = read_file(spark, GOLD_PRODUCTS_PATH, \"delta\")#spark.read.format(\"delta\").load(GOLD_PRODUCTS_PATH)\n",
    "df_packages = read_file(spark, GOLD_PACKAGE_PATH, \"delta\") #spark.read.format(\"delta\").load(GOLD_PACKAGE_PATH)"
   ]
  },
  {
   "cell_type": "code",
   "execution_count": null,
   "id": "313bfbe2-da64-40e9-b609-b6d56bc671ac",
   "metadata": {},
   "outputs": [],
   "source": [
    "order_payload = generate_order_payload(generate_order_details(df_clients_address, df_products, df_packages))\n",
    "print(json.dumps(order_payload, indent=4))"
   ]
  },
  {
   "cell_type": "markdown",
   "id": "2c60525a-53c2-4f8c-8c78-4656b3573175",
   "metadata": {},
   "source": [
    "# 3. Stream Producer Kafka"
   ]
  },
  {
   "cell_type": "code",
   "execution_count": null,
   "id": "e94adfd7-9507-429d-9251-37518ee4a497",
   "metadata": {},
   "outputs": [],
   "source": []
  },
  {
   "cell_type": "code",
   "execution_count": null,
   "id": "403cbdc6-f990-47b3-bfbd-68e3e6d311d1",
   "metadata": {},
   "outputs": [],
   "source": [
    "def produce_order(bootstrap_server, payload, topic_name = \"order_stream\"):\n",
    "    try:\n",
    "        # Ensure payload is correctly formatted and partition key is a string\n",
    "        if 'event_type' not in payload or not isinstance(payload['event_type'], str):\n",
    "            raise ValueError(\"Payload must include 'event_type' as a string\")\n",
    "\n",
    "        producer = producer = KafkaProducer(\n",
    "            bootstrap_servers=[BOOTSTRAP_SERVER]\n",
    "        )\n",
    "        \n",
    "        data = json.dumps(payload).encode()\n",
    "        put_response = producer.send(\n",
    "            topic_name,\n",
    "            key=payload['event_type'].encode(),\n",
    "            value=data,\n",
    "        )\n",
    "        \n",
    "        # Log response details\n",
    "        logger.info(f\"Put record response: {put_response}\")\n",
    "        return put_response\n",
    "    except Exception as e:\n",
    "        logger.error(f\"Failed to put record to stream: {e}\", exc_info=True)\n",
    "        return None"
   ]
  },
  {
   "cell_type": "code",
   "execution_count": null,
   "id": "4c161fe9-1dec-4fdc-8bf5-fa6777234423",
   "metadata": {},
   "outputs": [],
   "source": [
    "order_payload = generate_order_payload(generate_order_details(df_clients_address, df_products, df_packages))\n",
    "produce_order(BOOTSTRAP_SERVER, order_payload, TOPIC_NAME)"
   ]
  },
  {
   "cell_type": "markdown",
   "id": "4c19dc0c-b215-43b5-b4cc-eb4196acbeea",
   "metadata": {},
   "source": [
    "# 3. Stream producer Kinesis"
   ]
  },
  {
   "cell_type": "code",
   "execution_count": null,
   "id": "e3c64492-b64c-4bdb-bd41-7b62243414d6",
   "metadata": {
    "vscode": {
     "languageId": "python_glue_session"
    }
   },
   "outputs": [],
   "source": [
    "# kinesis_client = boto3.client(\n",
    "#     'kinesis', \n",
    "#     aws_access_key_id=aws_access_key_id,\n",
    "#     aws_secret_access_key=aws_secret_access_key,\n",
    "#     # aws_session_token=aws_session_token,\n",
    "#     region_name='eu-south-2'\n",
    "# )"
   ]
  },
  {
   "cell_type": "code",
   "execution_count": null,
   "id": "ddcd8712-af60-4548-b856-7ba15ba2463c",
   "metadata": {},
   "outputs": [],
   "source": [
    "# response = kinesis_client.describe_stream(StreamName=stream_name)\n",
    "# print(response['StreamDescription']['StreamStatus'])"
   ]
  },
  {
   "cell_type": "code",
   "execution_count": null,
   "id": "1edcc55b-e14a-4cd3-ae48-d6820567aeb2",
   "metadata": {},
   "outputs": [],
   "source": [
    "# print(response['StreamDescription']['Shards'])"
   ]
  },
  {
   "cell_type": "code",
   "execution_count": null,
   "id": "051b87f1-b2f1-4284-981b-596ecda4394a",
   "metadata": {
    "vscode": {
     "languageId": "python_glue_session"
    }
   },
   "outputs": [],
   "source": [
    "# # def produce_order(payload):\n",
    "#     try:\n",
    "#         # Ensure payload is correctly formatted and partition key is a string\n",
    "#         if 'event_type' not in payload or not isinstance(payload['event_type'], str):\n",
    "#             raise ValueError(\"Payload must include 'event_type' as a string\")\n",
    "        \n",
    "#         data = json.dumps(payload)\n",
    "#         put_response = kinesis_client.put_record(\n",
    "#             StreamName=stream_name,\n",
    "#             Data=f\"{data}\\n\",\n",
    "#             PartitionKey=payload['event_type']\n",
    "#         )\n",
    "        \n",
    "#         # Log response details\n",
    "#         logger.info(f\"Put record response: {put_response}\")\n",
    "#         return put_response\n",
    "#     except Exception as e:\n",
    "#         logger.error(f\"Failed to put record to stream: {e}\", exc_info=True)\n",
    "#         return None"
   ]
  },
  {
   "cell_type": "code",
   "execution_count": null,
   "id": "f3d479d1-0942-40a9-af97-6cd163ea5e3b",
   "metadata": {
    "vscode": {
     "languageId": "python_glue_session"
    }
   },
   "outputs": [],
   "source": [
    "# order_payload = generate_order_payload(generate_order_details(df_clients_address, df_products, df_packages))\n",
    "# print(json.dumps(order_payload, indent=4))"
   ]
  },
  {
   "cell_type": "code",
   "execution_count": null,
   "id": "ccc4d2c7-ae2b-4cfb-b08e-4cca7d1bd63c",
   "metadata": {
    "vscode": {
     "languageId": "python_glue_session"
    }
   },
   "outputs": [],
   "source": [
    "# order_payload = generate_order_payload(generate_order_details(df_clients_address, df_products, df_packages))\n",
    "# produce_order(order_payload)"
   ]
  },
  {
   "cell_type": "code",
   "execution_count": null,
   "id": "d48ca955-c3d7-46a8-b562-bb26a2bb4c01",
   "metadata": {
    "editable": true,
    "slideshow": {
     "slide_type": ""
    },
    "tags": [],
    "vscode": {
     "languageId": "python_glue_session"
    }
   },
   "outputs": [],
   "source": [
    "# Produce orders at regular intervals (for example, every second)\n",
    "# while True:\n",
    "#     order_payload = order_payload = generate_order_payload(generate_order_details(df_clients_address, df_products, df_packages))\n",
    "#     produce_order(order_payload)\n",
    "#     time.sleep(5)"
   ]
  },
  {
   "cell_type": "code",
   "execution_count": null,
   "id": "1911fff3-7a09-4605-b8f2-2b3a36d6210c",
   "metadata": {},
   "outputs": [],
   "source": []
  }
 ],
 "metadata": {
  "kernelspec": {
   "display_name": "Python 3 (ipykernel)",
   "language": "python",
   "name": "python3"
  },
  "language_info": {
   "codemirror_mode": {
    "name": "ipython",
    "version": 3
   },
   "file_extension": ".py",
   "mimetype": "text/x-python",
   "name": "python",
   "nbconvert_exporter": "python",
   "pygments_lexer": "ipython3",
   "version": "3.10.11"
  }
 },
 "nbformat": 4,
 "nbformat_minor": 5
}
